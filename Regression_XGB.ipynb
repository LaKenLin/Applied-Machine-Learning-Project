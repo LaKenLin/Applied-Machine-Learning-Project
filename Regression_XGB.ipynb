{
 "cells": [
  {
   "cell_type": "markdown",
   "metadata": {},
   "source": [
    "# XGBoost Regression Solution\n",
    "### Imports"
   ]
  },
  {
   "cell_type": "code",
   "execution_count": null,
   "metadata": {},
   "outputs": [],
   "source": [
    "import h5py\n",
    "import pandas as pd\n",
    "import numpy as np\n",
    "from sklearn.model_selection import train_test_split\n",
    "from sklearn.preprocessing import StandardScaler\n",
    "import xgboost as xgb\n",
    "from xgboost.sklearn import XGBRegressor\n",
    "import sklearn as skl\n",
    "from matplotlib import pyplot as plt\n",
    "from time import time\n",
    "\n",
    "import shap\n",
    "\n"
   ]
  },
  {
   "cell_type": "markdown",
   "metadata": {},
   "source": [
    "### Data Loading & Preprocessing"
   ]
  },
  {
   "cell_type": "code",
   "execution_count": 2,
   "metadata": {},
   "outputs": [
    {
     "name": "stdout",
     "output_type": "stream",
     "text": [
      "Shape of training data set: (162500, 166)\n",
      "Shape of test data set: (160651, 164)\n"
     ]
    }
   ],
   "source": [
    "def load_data(name):\n",
    "    with h5py.File(f'{name}.h5', 'r') as f:\n",
    "        return pd.DataFrame(f[name][:])\n",
    "\n",
    "train = load_data('train')\n",
    "test  = load_data('test')\n",
    "print (f'Shape of training data set: {train.shape}')\n",
    "print (f'Shape of test data set: {test.shape}')\n",
    "all_variables = ['actualInteractionsPerCrossing', 'averageInteractionsPerCrossing', 'correctedActualMu', 'correctedAverageMu', 'correctedScaledActualMu', 'correctedScaledAverageMu', 'NvtxReco', 'p_nTracks', 'p_pt_track', 'p_eta', 'p_phi', 'p_charge', 'p_qOverP', 'p_z0', 'p_d0', 'p_sigmad0', 'p_d0Sig', 'p_EptRatio', 'p_dPOverP', 'p_z0theta', 'p_etaCluster', 'p_phiCluster', 'p_eCluster', 'p_rawEtaCluster', 'p_rawPhiCluster', 'p_rawECluster', 'p_eClusterLr0', 'p_eClusterLr1', 'p_eClusterLr2', 'p_eClusterLr3', 'p_etaClusterLr1', 'p_etaClusterLr2', 'p_phiClusterLr2', 'p_eAccCluster', 'p_f0Cluster', 'p_etaCalo', 'p_phiCalo', 'p_eTileGap3Cluster', 'p_cellIndexCluster', 'p_phiModCalo', 'p_etaModCalo', 'p_dPhiTH3', 'p_R12', 'p_fTG3', 'p_weta2', 'p_Reta', 'p_Rphi', 'p_Eratio', 'p_f1', 'p_f3', 'p_Rhad', 'p_Rhad1', 'p_deltaEta1', 'p_deltaPhiRescaled2', 'p_TRTPID', 'p_TRTTrackOccupancy', 'p_numberOfInnermostPixelHits', 'p_numberOfPixelHits', 'p_numberOfSCTHits', 'p_numberOfTRTHits', 'p_numberOfTRTXenonHits', 'p_chi2', 'p_ndof', 'p_SharedMuonTrack', 'p_E7x7_Lr2', 'p_E7x7_Lr3', 'p_E_Lr0_HiG', 'p_E_Lr0_LowG', 'p_E_Lr0_MedG', 'p_E_Lr1_HiG', 'p_E_Lr1_LowG', 'p_E_Lr1_MedG', 'p_E_Lr2_HiG', 'p_E_Lr2_LowG', 'p_E_Lr2_MedG', 'p_E_Lr3_HiG', 'p_E_Lr3_LowG', 'p_E_Lr3_MedG', 'p_ambiguityType', 'p_asy1', 'p_author', 'p_barys1', 'p_core57cellsEnergyCorrection', 'p_deltaEta0', 'p_deltaEta2', 'p_deltaEta3', 'p_deltaPhi0', 'p_deltaPhi1', 'p_deltaPhi2', 'p_deltaPhi3', 'p_deltaPhiFromLastMeasurement', 'p_deltaPhiRescaled0', 'p_deltaPhiRescaled1', 'p_deltaPhiRescaled3', 'p_e1152', 'p_e132', 'p_e235', 'p_e255', 'p_e2ts1', 'p_ecore', 'p_emins1', 'p_etconeCorrBitset', 'p_ethad', 'p_ethad1', 'p_f1core', 'p_f3core', 'p_maxEcell_energy', 'p_maxEcell_gain', 'p_maxEcell_time', 'p_maxEcell_x', 'p_maxEcell_y', 'p_maxEcell_z', 'p_nCells_Lr0_HiG', 'p_nCells_Lr0_LowG', 'p_nCells_Lr0_MedG', 'p_nCells_Lr1_HiG', 'p_nCells_Lr1_LowG', 'p_nCells_Lr1_MedG', 'p_nCells_Lr2_HiG', 'p_nCells_Lr2_LowG', 'p_nCells_Lr2_MedG', 'p_nCells_Lr3_HiG', 'p_nCells_Lr3_LowG', 'p_nCells_Lr3_MedG', 'p_pos', 'p_pos7', 'p_poscs1', 'p_poscs2', 'p_ptconeCorrBitset', 'p_ptconecoreTrackPtrCorrection', 'p_r33over37allcalo', 'p_topoetconeCorrBitset', 'p_topoetconecoreConeEnergyCorrection', 'p_topoetconecoreConeSCEnergyCorrection', 'p_weta1', 'p_widths1', 'p_widths2', 'p_wtots1', 'p_e233', 'p_e237', 'p_e277', 'p_e2tsts1', 'p_ehad1', 'p_emaxs1', 'p_fracs1', 'p_DeltaE', 'p_E3x5_Lr0', 'p_E3x5_Lr1', 'p_E3x5_Lr2', 'p_E3x5_Lr3', 'p_E5x7_Lr0', 'p_E5x7_Lr1', 'p_E5x7_Lr2', 'p_E5x7_Lr3', 'p_E7x11_Lr0', 'p_E7x11_Lr1', 'p_E7x11_Lr2', 'p_E7x11_Lr3', 'p_E7x7_Lr0', 'p_E7x7_Lr1' ]\n"
   ]
  },
  {
   "cell_type": "code",
   "execution_count": 4,
   "metadata": {},
   "outputs": [],
   "source": [
    "all_variables = ['actualInteractionsPerCrossing', 'averageInteractionsPerCrossing', 'correctedActualMu', 'correctedAverageMu', 'correctedScaledActualMu', 'correctedScaledAverageMu', 'NvtxReco', 'p_nTracks', 'p_pt_track', 'p_eta', 'p_phi', 'p_charge', 'p_qOverP', 'p_z0', 'p_d0', 'p_sigmad0', 'p_d0Sig', 'p_EptRatio', 'p_dPOverP', 'p_z0theta', 'p_etaCluster', 'p_phiCluster', 'p_eCluster', 'p_rawEtaCluster', 'p_rawPhiCluster', 'p_rawECluster', 'p_eClusterLr0', 'p_eClusterLr1', 'p_eClusterLr2', 'p_eClusterLr3', 'p_etaClusterLr1', 'p_etaClusterLr2', 'p_phiClusterLr2', 'p_eAccCluster', 'p_f0Cluster', 'p_etaCalo', 'p_phiCalo', 'p_eTileGap3Cluster', 'p_cellIndexCluster', 'p_phiModCalo', 'p_etaModCalo', 'p_dPhiTH3', 'p_R12', 'p_fTG3', 'p_weta2', 'p_Reta', 'p_Rphi', 'p_Eratio', 'p_f1', 'p_f3', 'p_Rhad', 'p_Rhad1', 'p_deltaEta1', 'p_deltaPhiRescaled2', 'p_TRTPID', 'p_TRTTrackOccupancy', 'p_numberOfInnermostPixelHits', 'p_numberOfPixelHits', 'p_numberOfSCTHits', 'p_numberOfTRTHits', 'p_numberOfTRTXenonHits', 'p_chi2', 'p_ndof', 'p_SharedMuonTrack', 'p_E7x7_Lr2', 'p_E7x7_Lr3', 'p_E_Lr0_HiG', 'p_E_Lr0_LowG', 'p_E_Lr0_MedG', 'p_E_Lr1_HiG', 'p_E_Lr1_LowG', 'p_E_Lr1_MedG', 'p_E_Lr2_HiG', 'p_E_Lr2_LowG', 'p_E_Lr2_MedG', 'p_E_Lr3_HiG', 'p_E_Lr3_LowG', 'p_E_Lr3_MedG', 'p_ambiguityType', 'p_asy1', 'p_author', 'p_barys1', 'p_core57cellsEnergyCorrection', 'p_deltaEta0', 'p_deltaEta2', 'p_deltaEta3', 'p_deltaPhi0', 'p_deltaPhi1', 'p_deltaPhi2', 'p_deltaPhi3', 'p_deltaPhiFromLastMeasurement', 'p_deltaPhiRescaled0', 'p_deltaPhiRescaled1', 'p_deltaPhiRescaled3', 'p_e1152', 'p_e132', 'p_e235', 'p_e255', 'p_e2ts1', 'p_ecore', 'p_emins1', 'p_etconeCorrBitset', 'p_ethad', 'p_ethad1', 'p_f1core', 'p_f3core', 'p_maxEcell_energy', 'p_maxEcell_gain', 'p_maxEcell_time', 'p_maxEcell_x', 'p_maxEcell_y', 'p_maxEcell_z', 'p_nCells_Lr0_HiG', 'p_nCells_Lr0_LowG', 'p_nCells_Lr0_MedG', 'p_nCells_Lr1_HiG', 'p_nCells_Lr1_LowG', 'p_nCells_Lr1_MedG', 'p_nCells_Lr2_HiG', 'p_nCells_Lr2_LowG', 'p_nCells_Lr2_MedG', 'p_nCells_Lr3_HiG', 'p_nCells_Lr3_LowG', 'p_nCells_Lr3_MedG', 'p_pos', 'p_pos7', 'p_poscs1', 'p_poscs2', 'p_ptconeCorrBitset', 'p_ptconecoreTrackPtrCorrection', 'p_r33over37allcalo', 'p_topoetconeCorrBitset', 'p_topoetconecoreConeEnergyCorrection', 'p_topoetconecoreConeSCEnergyCorrection', 'p_weta1', 'p_widths1', 'p_widths2', 'p_wtots1', 'p_e233', 'p_e237', 'p_e277', 'p_e2tsts1', 'p_ehad1', 'p_emaxs1', 'p_fracs1', 'p_DeltaE', 'p_E3x5_Lr0', 'p_E3x5_Lr1', 'p_E3x5_Lr2', 'p_E3x5_Lr3', 'p_E5x7_Lr0', 'p_E5x7_Lr1', 'p_E5x7_Lr2', 'p_E5x7_Lr3', 'p_E7x11_Lr0', 'p_E7x11_Lr1', 'p_E7x11_Lr2', 'p_E7x11_Lr3', 'p_E7x7_Lr0', 'p_E7x7_Lr1' ]\n",
    "X = train[all_variables]\n",
    "y = train['p_truth_E']\n",
    "\n",
    "X_train, X_test, y_train, y_test = train_test_split(X, y, test_size=.25, random_state=16)"
   ]
  },
  {
   "cell_type": "markdown",
   "metadata": {},
   "source": [
    "### Setting up XGBoost"
   ]
  },
  {
   "cell_type": "code",
   "execution_count": 5,
   "metadata": {},
   "outputs": [],
   "source": [
    "def modelfit(alg, X, y, useTrainCV=True, cv_folds=5, early_stopping_rounds=50, plot_first=15, \\\n",
    "             X_test=X_test, y_test=y_test, plotting=False):\n",
    "    \n",
    "    if useTrainCV:\n",
    "        xgb_param = alg.get_xgb_params()\n",
    "        xgtrain = xgb.DMatrix(X.values, label=y.values)\n",
    "        cvresult = xgb.cv(xgb_param, xgtrain, num_boost_round=alg.get_params()['n_estimators'], nfold=cv_folds,\n",
    "            metrics='mae', early_stopping_rounds=early_stopping_rounds)\n",
    "        best_nestimators = cvresult.shape[0]\n",
    "        print(best_nestimators)\n",
    "        alg.set_params(n_estimators=cvresult.shape[0])\n",
    "    \n",
    "    #Fit the algorithm on the data\n",
    "    alg.fit(X, y, eval_metric='mae')\n",
    "\n",
    "    #Predict training set:\n",
    "    dtrain_predictions = alg.predict(X)\n",
    "\n",
    "    #Predict test set:\n",
    "    dtest_predictions  = alg.predict(X_test)\n",
    "        \n",
    "    #Print model report:\n",
    "    print(\"\\nModel Report\")\n",
    "    print(\"MAE Score (Train): %.4g\" % skl.metrics.mean_absolute_error(y.values, dtrain_predictions))\n",
    "    print(\"MAE Score (Test): %.4g\"  % skl.metrics.mean_absolute_error(y_test.values, dtest_predictions))\n",
    "    print(\"Explained Variance Score (Train): %f\" % skl.metrics.explained_variance_score(y.values, dtrain_predictions))\n",
    "    print(\"Explained Variance Score (Test): %f\"  % skl.metrics.explained_variance_score(y_test.values, dtest_predictions))\n",
    "    \n",
    "    feat_imp = pd.Series(alg.get_booster().get_fscore()).sort_values(ascending=False)\n",
    "    if plotting:\n",
    "        fig=plt.figure(figsize=(10,6))\n",
    "        feat_imp[:plot_first].plot(kind='bar', title='Feature Importances')\n",
    "        plt.ylabel('Feature Importance Score')\n",
    "\n",
    "    if useTrainCV:\n",
    "        return best_nestimators, feat_imp"
   ]
  },
  {
   "cell_type": "code",
   "execution_count": 6,
   "metadata": {},
   "outputs": [
    {
     "name": "stdout",
     "output_type": "stream",
     "text": [
      "284\n",
      "\n",
      "Model Report\n",
      "MAE Score (Train): 5460\n",
      "MAE Score (Test): 6107\n",
      "Explained Variance Score (Train): 0.949226\n",
      "Explained Variance Score (Test): 0.927022\n",
      "Make fit:  1695.239917755127\n"
     ]
    }
   ],
   "source": [
    "begin = time()\n",
    "xgb1 = XGBRegressor(\n",
    " learning_rate    = 0.1,\n",
    " n_estimators     = 1000,\n",
    " max_depth        = 5,\n",
    " min_child_weight = 1,\n",
    " gamma            = 0,\n",
    " subsample        = 0.8,\n",
    " colsample_bytree = 0.8,\n",
    " objective        = 'reg:squarederror',\n",
    " scale_pos_weight = 1,\n",
    " seed             = 16,\n",
    " n_jobs           = -1)\n",
    "best_nestimators, feature_importance = modelfit(xgb1, X_train, y_train, plot_first=12)\n",
    "print('Make fit: ', time()-begin)"
   ]
  },
  {
   "cell_type": "markdown",
   "metadata": {},
   "source": [
    "### Feature Importance with Shapley"
   ]
  },
  {
   "cell_type": "code",
   "execution_count": 7,
   "metadata": {},
   "outputs": [
    {
     "name": "stderr",
     "output_type": "stream",
     "text": [
      "Setting feature_perturbation = \"tree_path_dependent\" because no background data was given.\n"
     ]
    }
   ],
   "source": [
    "explainer = shap.TreeExplainer(xgb1)\n",
    "shap_values = explainer.shap_values(X_train)"
   ]
  },
  {
   "cell_type": "code",
   "execution_count": 8,
   "metadata": {},
   "outputs": [
    {
     "data": {
      "image/png": "[encoded data removed]",
      "text/plain": [
       "<Figure size 576x453.6 with 2 Axes>"
      ]
     },
     "metadata": {
      "needs_background": "light"
     },
     "output_type": "display_data"
    }
   ],
   "source": [
    "x = shap.summary_plot(shap_values, features=X_train, feature_names=X_train.columns, max_display=12, sort=True)"
   ]
  },
  {
   "cell_type": "code",
   "execution_count": 9,
   "metadata": {},
   "outputs": [
    {
     "data": {
      "text/html": [
       "<div>\n",
       "<style scoped>\n",
       "    .dataframe tbody tr th:only-of-type {\n",
       "        vertical-align: middle;\n",
       "    }\n",
       "\n",
       "    .dataframe tbody tr th {\n",
       "        vertical-align: top;\n",
       "    }\n",
       "\n",
       "    .dataframe thead th {\n",
       "        text-align: right;\n",
       "    }\n",
       "</style>\n",
       "<table border=\"1\" class=\"dataframe\">\n",
       "  <thead>\n",
       "    <tr style=\"text-align: right;\">\n",
       "      <th></th>\n",
       "      <th>column_name</th>\n",
       "      <th>shapley_importance</th>\n",
       "    </tr>\n",
       "  </thead>\n",
       "  <tbody>\n",
       "    <tr>\n",
       "      <th>22</th>\n",
       "      <td>p_eCluster</td>\n",
       "      <td>26758.4</td>\n",
       "    </tr>\n",
       "    <tr>\n",
       "      <th>33</th>\n",
       "      <td>p_eAccCluster</td>\n",
       "      <td>3373.43</td>\n",
       "    </tr>\n",
       "    <tr>\n",
       "      <th>25</th>\n",
       "      <td>p_rawECluster</td>\n",
       "      <td>2993.61</td>\n",
       "    </tr>\n",
       "    <tr>\n",
       "      <th>99</th>\n",
       "      <td>p_ecore</td>\n",
       "      <td>1322.9</td>\n",
       "    </tr>\n",
       "    <tr>\n",
       "      <th>115</th>\n",
       "      <td>p_nCells_Lr1_HiG</td>\n",
       "      <td>1213.5</td>\n",
       "    </tr>\n",
       "    <tr>\n",
       "      <th>8</th>\n",
       "      <td>p_pt_track</td>\n",
       "      <td>900.705</td>\n",
       "    </tr>\n",
       "    <tr>\n",
       "      <th>7</th>\n",
       "      <td>p_nTracks</td>\n",
       "      <td>875.396</td>\n",
       "    </tr>\n",
       "    <tr>\n",
       "      <th>84</th>\n",
       "      <td>p_deltaEta2</td>\n",
       "      <td>814.11</td>\n",
       "    </tr>\n",
       "    <tr>\n",
       "      <th>14</th>\n",
       "      <td>p_d0</td>\n",
       "      <td>800.715</td>\n",
       "    </tr>\n",
       "    <tr>\n",
       "      <th>17</th>\n",
       "      <td>p_EptRatio</td>\n",
       "      <td>759.169</td>\n",
       "    </tr>\n",
       "    <tr>\n",
       "      <th>88</th>\n",
       "      <td>p_deltaPhi2</td>\n",
       "      <td>578.631</td>\n",
       "    </tr>\n",
       "    <tr>\n",
       "      <th>52</th>\n",
       "      <td>p_deltaEta1</td>\n",
       "      <td>554.936</td>\n",
       "    </tr>\n",
       "  </tbody>\n",
       "</table>\n",
       "</div>"
      ],
      "text/plain": [
       "          column_name shapley_importance\n",
       "22         p_eCluster            26758.4\n",
       "33      p_eAccCluster            3373.43\n",
       "25      p_rawECluster            2993.61\n",
       "99            p_ecore             1322.9\n",
       "115  p_nCells_Lr1_HiG             1213.5\n",
       "8          p_pt_track            900.705\n",
       "7           p_nTracks            875.396\n",
       "84        p_deltaEta2             814.11\n",
       "14               p_d0            800.715\n",
       "17         p_EptRatio            759.169\n",
       "88        p_deltaPhi2            578.631\n",
       "52        p_deltaEta1            554.936"
      ]
     },
     "execution_count": 9,
     "metadata": {},
     "output_type": "execute_result"
    }
   ],
   "source": [
    "shapley_sum = np.abs(shap_values).mean(axis=0)\n",
    "importance  = pd.DataFrame([X_train.columns.tolist(), shapley_sum.tolist()]).T\n",
    "importance.columns = ['column_name', 'shapley_importance']\n",
    "importance  = importance.sort_values('shapley_importance', ascending=False)\n",
    "best_features = importance['column_name'].tolist()[:10]\n",
    "importance.head(12)"
   ]
  },
  {
   "cell_type": "code",
   "execution_count": 10,
   "metadata": {},
   "outputs": [
    {
     "name": "stdout",
     "output_type": "stream",
     "text": [
      "Number of features common in Shapley Values and XGB feature_importance: 6\n",
      "(91121, 10)\n"
     ]
    }
   ],
   "source": [
    "print('Number of features common in Shapley Values and XGB feature_importance:', len(set(feature_importance.keys()[:15]).intersection(best_features)))\n",
    "X_best = X[best_features]\n",
    "X_btrain, X_btest, y_train, y_test = train_test_split(X_best, y, test_size=.25, random_state=16)\n",
    "print(X_btrain.shape)"
   ]
  },
  {
   "cell_type": "markdown",
   "metadata": {},
   "source": [
    "### Hyperparameter Optimization\n",
    "__We want to optimize the following parameters:__ n_estimators, max_depth, min_child_weight, learning rate (-> n_estimators again) <br>\n",
    "__Round 1:__ Recalibrating Number of Estimators for new parameter set"
   ]
  },
  {
   "cell_type": "code",
   "execution_count": 11,
   "metadata": {},
   "outputs": [],
   "source": [
    "# Define dictionaries for kwargs vectors holding standard/optimized parameters and optimizers, parameters to be optimized in the current step\n",
    "parameters = {'n_estimators': 1000, 'max_depth': 5, 'min_child_weight': 1, 'gamma': 0}"
   ]
  },
  {
   "cell_type": "code",
   "execution_count": 12,
   "metadata": {},
   "outputs": [
    {
     "name": "stdout",
     "output_type": "stream",
     "text": [
      "95\n",
      "\n",
      "Model Report\n",
      "MAE Score (Train): 6257\n",
      "MAE Score (Test): 6453\n",
      "Explained Variance Score (Train): 0.927847\n",
      "Explained Variance Score (Test): 0.919444\n",
      "Make fit:  77.77449703216553\n"
     ]
    }
   ],
   "source": [
    "begin = time()\n",
    "xgb2 = XGBRegressor(\n",
    " learning_rate    = 0.1,\n",
    " **parameters,\n",
    " subsample        = 0.8,\n",
    " colsample_bytree = 0.8,\n",
    " objective        = 'reg:squarederror',\n",
    " scale_pos_weight = 1,\n",
    " seed             = 16,\n",
    " n_jobs           = -1)\n",
    "parameters['n_estimators'], feature_importance = modelfit(xgb2, X_btrain, y_train, useTrainCV=True, \\\n",
    "                                                X_test = X_btest, y_test = y_test)\n",
    "print('Make fit: ', time()-begin)"
   ]
  },
  {
   "cell_type": "markdown",
   "metadata": {},
   "source": [
    "#### Bayesian Setup"
   ]
  },
  {
   "cell_type": "code",
   "execution_count": 13,
   "metadata": {},
   "outputs": [],
   "source": [
    "from bayes_opt import BayesianOptimization\n",
    "from sklearn.model_selection import cross_val_score\n",
    "\n",
    "def XGB_CrossValidation(data, targets, parameters):\n",
    "    \"\"\"Decision Tree cross validation.\n",
    "       Fits a Decision Tree with the given paramaters to the target \n",
    "       given data, calculated a CV accuracy score and returns the mean.\n",
    "       The goal is to find combinations of max_depth, min_samples_leaf \n",
    "       that maximize the accuracy\n",
    "    \"\"\"\n",
    "    \n",
    "    estimator = XGBRegressor(\n",
    "                     learning_rate    = 0.1,\n",
    "                     **parameters,\n",
    "                     subsample        = 0.8,\n",
    "                     colsample_bytree = 0.8,\n",
    "                     objective        = 'reg:squarederror',\n",
    "                     scale_pos_weight = 1,\n",
    "                     seed             = 21)\n",
    "    \n",
    "    cval = cross_val_score(estimator, data, targets, scoring='explained_variance', cv=5, n_jobs=-1)\n",
    "    \n",
    "    return cval.mean()"
   ]
  },
  {
   "cell_type": "code",
   "execution_count": 14,
   "metadata": {},
   "outputs": [],
   "source": [
    "def optimize_XGB(data, targets, pars, parameters, n_iter=5):\n",
    "    \"\"\"Apply Bayesian Optimization to Decision Tree parameters.\"\"\"\n",
    "    \n",
    "    def crossval_wrapper(max_depth=-1000, min_child_weight=-1000, gamma=-1000, parameters=parameters):\n",
    "        \"\"\"Wrapper of Decision Tree cross validation. \n",
    "           Notice how we ensure max_depth, min_samples_leaf \n",
    "           are casted to integer before we pass them along.\n",
    "        \"\"\"\n",
    "        if max_depth != -1000:\n",
    "            parameters['max_depth'] = int(max_depth)\n",
    "        if min_child_weight != -1000:\n",
    "            parameters['min_child_weight'] = int(min_child_weight)\n",
    "        if gamma != -1000:\n",
    "            parameters['gamma'] = gamma\n",
    "        return XGB_CrossValidation(data=data, \n",
    "                                   targets=targets,\n",
    "                                   parameters=parameters)\n",
    "\n",
    "    optimizer = BayesianOptimization(f=crossval_wrapper, \n",
    "                                     pbounds=pars, \n",
    "                                     random_state=21, \n",
    "                                     verbose=2)\n",
    "    optimizer.maximize(init_points=4, n_iter=n_iter)\n",
    "\n",
    "    return optimizer"
   ]
  },
  {
   "cell_type": "markdown",
   "metadata": {},
   "source": [
    "__Round 2:__ Tuning max_depth and min_child_weight with BayesianSearch"
   ]
  },
  {
   "cell_type": "code",
   "execution_count": 15,
   "metadata": {},
   "outputs": [
    {
     "name": "stdout",
     "output_type": "stream",
     "text": [
      "|   iter    |  target   | max_depth | min_ch... |\n",
      "-------------------------------------------------\n",
      "| \u001b[0m 1       \u001b[0m | \u001b[0m 0.9162  \u001b[0m | \u001b[0m 4.487   \u001b[0m | \u001b[0m 3.024   \u001b[0m |\n",
      "| \u001b[0m 2       \u001b[0m | \u001b[0m 0.912   \u001b[0m | \u001b[0m 11.21   \u001b[0m | \u001b[0m 1.151   \u001b[0m |\n",
      "| \u001b[0m 3       \u001b[0m | \u001b[0m 0.916   \u001b[0m | \u001b[0m 6.059   \u001b[0m | \u001b[0m 1.355   \u001b[0m |\n",
      "| \u001b[0m 4       \u001b[0m | \u001b[0m 0.9155  \u001b[0m | \u001b[0m 7.023   \u001b[0m | \u001b[0m 5.647   \u001b[0m |\n",
      "| \u001b[95m 5       \u001b[0m | \u001b[95m 0.9163  \u001b[0m | \u001b[95m 4.008   \u001b[0m | \u001b[95m 7.99    \u001b[0m |\n",
      "| \u001b[0m 6       \u001b[0m | \u001b[0m 0.9162  \u001b[0m | \u001b[0m 4.005   \u001b[0m | \u001b[0m 1.029   \u001b[0m |\n",
      "| \u001b[0m 7       \u001b[0m | \u001b[0m 0.9163  \u001b[0m | \u001b[0m 4.001   \u001b[0m | \u001b[0m 7.979   \u001b[0m |\n",
      "| \u001b[0m 8       \u001b[0m | \u001b[0m 0.9163  \u001b[0m | \u001b[0m 4.032   \u001b[0m | \u001b[0m 8.0     \u001b[0m |\n",
      "| \u001b[0m 9       \u001b[0m | \u001b[0m 0.9162  \u001b[0m | \u001b[0m 4.014   \u001b[0m | \u001b[0m 1.009   \u001b[0m |\n",
      "| \u001b[0m 10      \u001b[0m | \u001b[0m 0.9163  \u001b[0m | \u001b[0m 4.003   \u001b[0m | \u001b[0m 7.962   \u001b[0m |\n",
      "| \u001b[0m 11      \u001b[0m | \u001b[0m 0.9162  \u001b[0m | \u001b[0m 4.003   \u001b[0m | \u001b[0m 1.036   \u001b[0m |\n",
      "| \u001b[0m 12      \u001b[0m | \u001b[0m 0.9163  \u001b[0m | \u001b[0m 4.006   \u001b[0m | \u001b[0m 7.985   \u001b[0m |\n",
      "| \u001b[0m 13      \u001b[0m | \u001b[0m 0.9163  \u001b[0m | \u001b[0m 4.022   \u001b[0m | \u001b[0m 7.971   \u001b[0m |\n",
      "| \u001b[0m 14      \u001b[0m | \u001b[0m 0.9162  \u001b[0m | \u001b[0m 4.01    \u001b[0m | \u001b[0m 1.052   \u001b[0m |\n",
      "=================================================\n",
      "Bay Time:  551.272617816925\n",
      "{'target': 0.9163497924804688, 'params': {'max_depth': 4.008337418922821, 'min_child_weight': 7.9904776646804825}}\n"
     ]
    }
   ],
   "source": [
    "parameters_BayesianOptimization = {\"max_depth\": (4, 14), \n",
    "                                   \"min_child_weight\": (1, 8)\n",
    "                                  }\n",
    "start = time()\n",
    "BayesianOptimization_depth_weight = optimize_XGB(X_btrain, \n",
    "                                                 y_train, \n",
    "                                                 parameters_BayesianOptimization,\n",
    "                                                 parameters,\n",
    "                                                 n_iter=10)\n",
    "print('Bay Time: ', time()-start)\n",
    "print(BayesianOptimization_depth_weight.max)"
   ]
  },
  {
   "cell_type": "code",
   "execution_count": 16,
   "metadata": {},
   "outputs": [
    {
     "name": "stdout",
     "output_type": "stream",
     "text": [
      "\n",
      "Model Report\n",
      "MAE Score (Train): 6377\n",
      "MAE Score (Test): 6455\n",
      "Explained Variance Score (Train): 0.922504\n",
      "Explained Variance Score (Test): 0.919827\n",
      "Make fit:  9.999855995178223\n"
     ]
    }
   ],
   "source": [
    "parameters['max_depth'] = int(np.round(BayesianOptimization_depth_weight.max['params']['max_depth']))\n",
    "parameters['min_child_weight'] = int(np.round(BayesianOptimization_depth_weight.max['params']['min_child_weight']))\n",
    "begin = time()\n",
    "xgb2 = XGBRegressor(\n",
    " learning_rate    = 0.1,\n",
    " **parameters,\n",
    " subsample        = 0.8,\n",
    " colsample_bytree = 0.8,\n",
    " objective        = 'reg:squarederror',\n",
    " scale_pos_weight = 1,\n",
    " seed             = 16,\n",
    " n_jobs           = -1)\n",
    "modelfit(xgb2, X_btrain, y_train, useTrainCV=False, X_test=X_btest, y_test=y_test)\n",
    "print('Make fit: ', time()-begin)"
   ]
  },
  {
   "cell_type": "markdown",
   "metadata": {},
   "source": [
    "__Round 3:__ Reducing learning_rate and finding new number of estimators with CV"
   ]
  },
  {
   "cell_type": "code",
   "execution_count": 18,
   "metadata": {},
   "outputs": [
    {
     "name": "stdout",
     "output_type": "stream",
     "text": [
      "1139\n",
      "\n",
      "Model Report\n",
      "MAE Score (Train): 6335\n",
      "MAE Score (Test): 6434\n",
      "Explained Variance Score (Train): 0.923511\n",
      "Explained Variance Score (Test): 0.920060\n",
      "Make fit:  557.7414846420288\n"
     ]
    }
   ],
   "source": [
    "parameters['n_estimators'] = 5000\n",
    "begin = time()\n",
    "xgb3 = XGBRegressor(\n",
    " learning_rate    = 0.01,\n",
    " **parameters,\n",
    " subsample        = 0.8,\n",
    " colsample_bytree = 0.8,\n",
    " objective        = 'reg:squarederror',\n",
    " scale_pos_weight = 1,\n",
    " seed             = 16,\n",
    " n_jobs           = -1)\n",
    "parameters['n_estimators'], feature_imp = modelfit(xgb3, X_btrain, y_train, plot_first=10, X_test=X_btest, y_test=y_test)\n",
    "print('Make fit: ', time()-begin)"
   ]
  },
  {
   "cell_type": "markdown",
   "metadata": {},
   "source": [
    "## Predicting Training Data"
   ]
  },
  {
   "cell_type": "code",
   "execution_count": 19,
   "metadata": {},
   "outputs": [
    {
     "name": "stdout",
     "output_type": "stream",
     "text": [
      "{'n_estimators': 1139, 'max_depth': 4, 'min_child_weight': 8, 'gamma': 0}\n"
     ]
    }
   ],
   "source": [
    "print(parameters)"
   ]
  },
  {
   "cell_type": "code",
   "execution_count": 28,
   "metadata": {},
   "outputs": [
    {
     "data": {
      "text/plain": [
       "XGBRegressor(base_score=0.5, booster=None, colsample_bylevel=1,\n",
       "             colsample_bynode=1, colsample_bytree=0.8, gamma=0, gpu_id=-1,\n",
       "             importance_type='gain', interaction_constraints=None,\n",
       "             learning_rate=0.01, max_delta_step=0, max_depth=4,\n",
       "             min_child_weight=8, missing=nan, monotone_constraints=None,\n",
       "             n_estimators=1139, n_jobs=0, num_parallel_tree=1,\n",
       "             objective='reg:squarederror', random_state=16, reg_alpha=0,\n",
       "             reg_lambda=1, scale_pos_weight=1, seed=16, subsample=0.8,\n",
       "             tree_method=None, validate_parameters=False, verbosity=None)"
      ]
     },
     "execution_count": 28,
     "metadata": {},
     "output_type": "execute_result"
    }
   ],
   "source": [
    "X_training = X[best_features]\n",
    "y_training = train['p_truth_E'].loc[electron_indices]\n",
    "X_testing = pd.DataFrame(StandardScaler().fit_transform(test[best_features]))\n",
    "X_testing.columns = best_features\n",
    "xgb_final = XGBRegressor(\n",
    " learning_rate    = 0.01,\n",
    " **parameters,\n",
    " subsample        = 0.8,\n",
    " colsample_bytree = 0.8,\n",
    " objective        = 'reg:squarederror',\n",
    " scale_pos_weight = 1,\n",
    " seed             = 16)\n",
    "\n",
    "#Fit the algorithm on the data\n",
    "xgb_final.fit(X_training, y_training, eval_metric='mae')"
   ]
  },
  {
   "cell_type": "code",
   "execution_count": 29,
   "metadata": {},
   "outputs": [],
   "source": [
    "#Predict test set:\n",
    "dtest_predictions  = xgb_final.predict(X_testing)"
   ]
  },
  {
   "cell_type": "code",
   "execution_count": 30,
   "metadata": {},
   "outputs": [
    {
     "name": "stdout",
     "output_type": "stream",
     "text": [
      "[ 84122.87  87682.54 233107.61 ... 122171.08 100153.97 157836.7 ]\n"
     ]
    }
   ],
   "source": [
    "print(dtest_predictions)"
   ]
  },
  {
   "cell_type": "code",
   "execution_count": 31,
   "metadata": {},
   "outputs": [],
   "source": [
    "pd.Series(dtest_predictions).to_csv('Regression_LaurentLindpointner_XGBoost.txt', header=False)\n",
    "pd.Series(best_features).to_csv('Regression_LaurentLindpointner_XGBoost_VariableList.txt', index=False, header=False)"
   ]
  },
  {
   "cell_type": "code",
   "execution_count": null,
   "metadata": {},
   "outputs": [],
   "source": []
  }
 ],
 "metadata": {
  "kernelspec": {
   "display_name": "Python 3 (ipykernel)",
   "language": "python",
   "name": "python3"
  },
  "language_info": {
   "codemirror_mode": {
    "name": "ipython",
    "version": 3
   },
   "file_extension": ".py",
   "mimetype": "text/x-python",
   "name": "python",
   "nbconvert_exporter": "python",
   "pygments_lexer": "ipython3",
   "version": "3.9.7"
  }
 },
 "nbformat": 4,
 "nbformat_minor": 4
}

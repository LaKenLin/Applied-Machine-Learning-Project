{
 "cells": [
  {
   "cell_type": "markdown",
   "metadata": {},
   "source": [
    "### Imports"
   ]
  },
  {
   "cell_type": "code",
   "execution_count": 1,
   "metadata": {},
   "outputs": [],
   "source": [
    "import pandas as pd\n",
    "import numpy as np\n",
    "from time import time\n",
    "import h5py\n",
    "import matplotlib.pyplot as plt\n",
    "\n",
    "import  sklearn as sk\n",
    "from sklearn.cluster import KMeans, OPTICS, DBSCAN\n",
    "from sklearn.model_selection import train_test_split\n",
    "from sklearn.preprocessing import MinMaxScaler, StandardScaler\n",
    "from sklearn.decomposition import SparsePCA as PCA"
   ]
  },
  {
   "cell_type": "markdown",
   "metadata": {},
   "source": [
    "### Loading Data"
   ]
  },
  {
   "cell_type": "code",
   "execution_count": 2,
   "metadata": {},
   "outputs": [],
   "source": [
    "def load_data(name):\n",
    "    with h5py.File(f'{name}.h5', 'r') as f:\n",
    "        return pd.DataFrame(f[name][:])\n",
    "\n",
    "train = load_data('train')\n",
    "test  = load_data('test')"
   ]
  },
  {
   "cell_type": "code",
   "execution_count": 3,
   "metadata": {},
   "outputs": [
    {
     "name": "stdout",
     "output_type": "stream",
     "text": [
      "Shape of training data set: (162500, 166)\n",
      "Shape of test data set: (160651, 164)\n"
     ]
    }
   ],
   "source": [
    "print (f'Shape of training data set: {train.shape}')\n",
    "print (f'Shape of test data set: {test.shape}')"
   ]
  },
  {
   "cell_type": "markdown",
   "metadata": {},
   "source": [
    "### Finding unique features and momovalue columns"
   ]
  },
  {
   "cell_type": "code",
   "execution_count": 4,
   "metadata": {},
   "outputs": [],
   "source": [
    "def find_unique(X):\n",
    "  means = np.mean(np.array(X), axis=0)\n",
    "  unique_values, unique_indices = np.unique(means, return_index=True)\n",
    "  sorted_indices = np.sort(unique_indices)\n",
    "  unique_variables = []\n",
    "  for i in unique_indices:\n",
    "    unique_variables.append(all_variables[i])\n",
    "  return unique_variables"
   ]
  },
  {
   "cell_type": "code",
   "execution_count": 5,
   "metadata": {},
   "outputs": [],
   "source": [
    "def find_multivalues(X, unique_variables):\n",
    "    multivalue_variables = []\n",
    "    uniques = []\n",
    "    j = 0\n",
    "    for i in unique_variables:\n",
    "        uniques.append(np.unique(X[i]))\n",
    "        if len(uniques[j]) >= 2:\n",
    "            multivalue_variables.append(i)\n",
    "        j+=1\n",
    "    return multivalue_variables"
   ]
  },
  {
   "cell_type": "code",
   "execution_count": 6,
   "metadata": {},
   "outputs": [
    {
     "name": "stdout",
     "output_type": "stream",
     "text": [
      "Found 17 unusuable features!\n"
     ]
    }
   ],
   "source": [
    "all_variables = ['actualInteractionsPerCrossing', 'averageInteractionsPerCrossing', 'correctedActualMu', 'correctedAverageMu', 'correctedScaledActualMu', 'correctedScaledAverageMu', 'NvtxReco', 'p_nTracks', 'p_pt_track', 'p_eta', 'p_phi', 'p_charge', 'p_qOverP', 'p_z0', 'p_d0', 'p_sigmad0', 'p_d0Sig', 'p_EptRatio', 'p_dPOverP', 'p_z0theta', 'p_etaCluster', 'p_phiCluster', 'p_eCluster', 'p_rawEtaCluster', 'p_rawPhiCluster', 'p_rawECluster', 'p_eClusterLr0', 'p_eClusterLr1', 'p_eClusterLr2', 'p_eClusterLr3', 'p_etaClusterLr1', 'p_etaClusterLr2', 'p_phiClusterLr2', 'p_eAccCluster', 'p_f0Cluster', 'p_etaCalo', 'p_phiCalo', 'p_eTileGap3Cluster', 'p_cellIndexCluster', 'p_phiModCalo', 'p_etaModCalo', 'p_dPhiTH3', 'p_R12', 'p_fTG3', 'p_weta2', 'p_Reta', 'p_Rphi', 'p_Eratio', 'p_f1', 'p_f3', 'p_Rhad', 'p_Rhad1', 'p_deltaEta1', 'p_deltaPhiRescaled2', 'p_TRTPID', 'p_TRTTrackOccupancy', 'p_numberOfInnermostPixelHits', 'p_numberOfPixelHits', 'p_numberOfSCTHits', 'p_numberOfTRTHits', 'p_numberOfTRTXenonHits', 'p_chi2', 'p_ndof', 'p_SharedMuonTrack', 'p_E7x7_Lr2', 'p_E7x7_Lr3', 'p_E_Lr0_HiG', 'p_E_Lr0_LowG', 'p_E_Lr0_MedG', 'p_E_Lr1_HiG', 'p_E_Lr1_LowG', 'p_E_Lr1_MedG', 'p_E_Lr2_HiG', 'p_E_Lr2_LowG', 'p_E_Lr2_MedG', 'p_E_Lr3_HiG', 'p_E_Lr3_LowG', 'p_E_Lr3_MedG', 'p_ambiguityType', 'p_asy1', 'p_author', 'p_barys1', 'p_core57cellsEnergyCorrection', 'p_deltaEta0', 'p_deltaEta2', 'p_deltaEta3', 'p_deltaPhi0', 'p_deltaPhi1', 'p_deltaPhi2', 'p_deltaPhi3', 'p_deltaPhiFromLastMeasurement', 'p_deltaPhiRescaled0', 'p_deltaPhiRescaled1', 'p_deltaPhiRescaled3', 'p_e1152', 'p_e132', 'p_e235', 'p_e255', 'p_e2ts1', 'p_ecore', 'p_emins1', 'p_etconeCorrBitset', 'p_ethad', 'p_ethad1', 'p_f1core', 'p_f3core', 'p_maxEcell_energy', 'p_maxEcell_gain', 'p_maxEcell_time', 'p_maxEcell_x', 'p_maxEcell_y', 'p_maxEcell_z', 'p_nCells_Lr0_HiG', 'p_nCells_Lr0_LowG', 'p_nCells_Lr0_MedG', 'p_nCells_Lr1_HiG', 'p_nCells_Lr1_LowG', 'p_nCells_Lr1_MedG', 'p_nCells_Lr2_HiG', 'p_nCells_Lr2_LowG', 'p_nCells_Lr2_MedG', 'p_nCells_Lr3_HiG', 'p_nCells_Lr3_LowG', 'p_nCells_Lr3_MedG', 'p_pos', 'p_pos7', 'p_poscs1', 'p_poscs2', 'p_ptconeCorrBitset', 'p_ptconecoreTrackPtrCorrection', 'p_r33over37allcalo', 'p_topoetconeCorrBitset', 'p_topoetconecoreConeEnergyCorrection', 'p_topoetconecoreConeSCEnergyCorrection', 'p_weta1', 'p_widths1', 'p_widths2', 'p_wtots1', 'p_e233', 'p_e237', 'p_e277', 'p_e2tsts1', 'p_ehad1', 'p_emaxs1', 'p_fracs1', 'p_DeltaE', 'p_E3x5_Lr0', 'p_E3x5_Lr1', 'p_E3x5_Lr2', 'p_E3x5_Lr3', 'p_E5x7_Lr0', 'p_E5x7_Lr1', 'p_E5x7_Lr2', 'p_E5x7_Lr3', 'p_E7x11_Lr0', 'p_E7x11_Lr1', 'p_E7x11_Lr2', 'p_E7x11_Lr3', 'p_E7x7_Lr0', 'p_E7x7_Lr1' ]\n",
    "X = train[all_variables]\n",
    "unique_variables = find_unique(X)\n",
    "X = train[unique_variables]\n",
    "multivariables = find_multivalues(X, unique_variables)\n",
    "X = train[multivariables]\n",
    "X = pd.DataFrame(MinMaxScaler().fit_transform(X))\n",
    "X.columns = multivariables\n",
    "print('Found {0:d} unusuable features!'.format(len(all_variables)-len(multivariables)))"
   ]
  },
  {
   "cell_type": "markdown",
   "metadata": {},
   "source": [
    "# Random Feature Selection Clustering Function"
   ]
  },
  {
   "cell_type": "code",
   "execution_count": 7,
   "metadata": {},
   "outputs": [],
   "source": [
    "def auswertung(X, alg, scores, var_sets, clusters, extra):\n",
    "    column_names = [str(i)+' clusters' for i in clusters]\n",
    "    top_indices = np.empty((5,len(clusters)))\n",
    "    top_scores  = np.empty_like(top_indices)\n",
    "    sil_scores  = np.empty_like(top_indices)\n",
    "    score_frame = pd.DataFrame(scores)\n",
    "    score_frame.columns = column_names\n",
    "    j = 0\n",
    "    for col in column_names:\n",
    "        top_indices[:,j] = score_frame.sort_values(col).index[:5]\n",
    "        top_scores[:,j]  = score_frame.sort_values(col)[col][:5]\n",
    "        alg.set_params(n_clusters = clusters[j], **extra)\n",
    "        for i in range(5):\n",
    "            \n",
    "            X_clust         = X[var_sets[int(top_indices[i,j])]]\n",
    "            cluster_labels  = alg.fit_predict(X_clust)\n",
    "            sil_scores[i,j] = sk.metrics.silhouette_score(X_clust, cluster_labels, sample_size=5000)\n",
    "        j+=1\n",
    "    final_score = 1 - top_scores + sil_scores\n",
    "    best_num_clusters = np.argmax(final_score, axis=1)[0]+np.min(clusters)\n",
    "    best_features = var_sets[np.argmax(final_score, axis=1)[0]]\n",
    "    return best_num_clusters, best_features, np.max(final_score)"
   ]
  },
  {
   "cell_type": "code",
   "execution_count": 8,
   "metadata": {},
   "outputs": [],
   "source": [
    "import json\n",
    "def good_clustering(X, alg, variable_set=multivariables, clusters = [3], n_trials=5, seed=16, extra = {}):\n",
    "    start = time()\n",
    "    np.random.seed(seed)\n",
    "    scores   = np.zeros((n_trials, len(clusters)))\n",
    "    var_sets = []\n",
    "    for trial in range(n_trials):\n",
    "        var_sets.append([variable_set[i] for i in np.random.randint(0,X.shape[1],25)])\n",
    "        X_clust = X[var_sets[trial]]\n",
    "        for n_clusters in clusters:\n",
    "            alg.set_params(n_clusters = n_clusters, **extra)\n",
    "            cluster_labels = alg.fit_predict(X_clust)\n",
    "            scores[trial, n_clusters-np.min(clusters)] = sk.metrics.davies_bouldin_score(X_clust, cluster_labels)\n",
    "        if trial%50==0 and trial != 0:\n",
    "            print('{0:2d}/{1:d} trials finished. Best score: {2:3.2f}. This took so far: {3:2.1f} minutes.'.format(trial, n_trials, np.min(scores[np.nonzero(scores)]),\n",
    "                                                                                                                   (time()-start)/60))\n",
    "    print('Trials finished. Now analysing results. Get back to you shortly. This took: {0:4.1f} minutes.'.format((time()-start)/60))\n",
    "    cl, var, sc = auswertung(X, alg, scores, var_sets, clusters, extra)\n",
    "    return cl, var, sc"
   ]
  },
  {
   "cell_type": "markdown",
   "metadata": {},
   "source": [
    "## Running K-Means Clustering"
   ]
  },
  {
   "cell_type": "code",
   "execution_count": 23,
   "metadata": {},
   "outputs": [
    {
     "name": "stdout",
     "output_type": "stream",
     "text": [
      "50/5000 trials finished. Best score: 0.51. This took so far: 0.8 minutes.\n",
      "100/5000 trials finished. Best score: 0.51. This took so far: 1.5 minutes.\n",
      "150/5000 trials finished. Best score: 0.51. This took so far: 2.1 minutes.\n",
      "200/5000 trials finished. Best score: 0.51. This took so far: 2.8 minutes.\n",
      "250/5000 trials finished. Best score: 0.41. This took so far: 3.5 minutes.\n",
      "300/5000 trials finished. Best score: 0.41. This took so far: 4.2 minutes.\n",
      "350/5000 trials finished. Best score: 0.41. This took so far: 4.8 minutes.\n",
      "400/5000 trials finished. Best score: 0.41. This took so far: 5.4 minutes.\n",
      "450/5000 trials finished. Best score: 0.41. This took so far: 6.1 minutes.\n",
      "500/5000 trials finished. Best score: 0.41. This took so far: 6.8 minutes.\n",
      "550/5000 trials finished. Best score: 0.41. This took so far: 7.5 minutes.\n",
      "600/5000 trials finished. Best score: 0.41. This took so far: 8.2 minutes.\n",
      "650/5000 trials finished. Best score: 0.41. This took so far: 8.8 minutes.\n",
      "700/5000 trials finished. Best score: 0.41. This took so far: 9.4 minutes.\n",
      "750/5000 trials finished. Best score: 0.41. This took so far: 10.1 minutes.\n",
      "800/5000 trials finished. Best score: 0.41. This took so far: 10.7 minutes.\n",
      "850/5000 trials finished. Best score: 0.32. This took so far: 11.3 minutes.\n",
      "900/5000 trials finished. Best score: 0.32. This took so far: 11.9 minutes.\n",
      "950/5000 trials finished. Best score: 0.30. This took so far: 12.6 minutes.\n",
      "1000/5000 trials finished. Best score: 0.30. This took so far: 15.6 minutes.\n",
      "1050/5000 trials finished. Best score: 0.30. This took so far: 18.0 minutes.\n",
      "1100/5000 trials finished. Best score: 0.30. This took so far: 20.0 minutes.\n",
      "1150/5000 trials finished. Best score: 0.30. This took so far: 22.2 minutes.\n",
      "1200/5000 trials finished. Best score: 0.30. This took so far: 22.9 minutes.\n",
      "1250/5000 trials finished. Best score: 0.30. This took so far: 23.5 minutes.\n",
      "1300/5000 trials finished. Best score: 0.30. This took so far: 24.2 minutes.\n",
      "1350/5000 trials finished. Best score: 0.30. This took so far: 24.9 minutes.\n",
      "1400/5000 trials finished. Best score: 0.30. This took so far: 25.5 minutes.\n",
      "1450/5000 trials finished. Best score: 0.30. This took so far: 26.2 minutes.\n",
      "1500/5000 trials finished. Best score: 0.30. This took so far: 26.8 minutes.\n",
      "1550/5000 trials finished. Best score: 0.30. This took so far: 27.4 minutes.\n",
      "1600/5000 trials finished. Best score: 0.30. This took so far: 28.0 minutes.\n",
      "1650/5000 trials finished. Best score: 0.30. This took so far: 28.6 minutes.\n",
      "1700/5000 trials finished. Best score: 0.30. This took so far: 29.1 minutes.\n",
      "1750/5000 trials finished. Best score: 0.30. This took so far: 29.7 minutes.\n",
      "1800/5000 trials finished. Best score: 0.30. This took so far: 30.3 minutes.\n",
      "1850/5000 trials finished. Best score: 0.30. This took so far: 30.9 minutes.\n",
      "1900/5000 trials finished. Best score: 0.30. This took so far: 31.5 minutes.\n",
      "1950/5000 trials finished. Best score: 0.30. This took so far: 32.1 minutes.\n",
      "2000/5000 trials finished. Best score: 0.30. This took so far: 32.8 minutes.\n",
      "2050/5000 trials finished. Best score: 0.30. This took so far: 33.4 minutes.\n",
      "2100/5000 trials finished. Best score: 0.30. This took so far: 34.1 minutes.\n",
      "2150/5000 trials finished. Best score: 0.30. This took so far: 34.7 minutes.\n",
      "2200/5000 trials finished. Best score: 0.30. This took so far: 35.3 minutes.\n",
      "2250/5000 trials finished. Best score: 0.30. This took so far: 36.0 minutes.\n",
      "2300/5000 trials finished. Best score: 0.30. This took so far: 36.7 minutes.\n",
      "2350/5000 trials finished. Best score: 0.30. This took so far: 37.3 minutes.\n",
      "2400/5000 trials finished. Best score: 0.30. This took so far: 38.0 minutes.\n",
      "2450/5000 trials finished. Best score: 0.30. This took so far: 38.7 minutes.\n",
      "2500/5000 trials finished. Best score: 0.30. This took so far: 39.4 minutes.\n",
      "2550/5000 trials finished. Best score: 0.30. This took so far: 40.2 minutes.\n",
      "2600/5000 trials finished. Best score: 0.30. This took so far: 40.8 minutes.\n",
      "2650/5000 trials finished. Best score: 0.30. This took so far: 41.5 minutes.\n",
      "2700/5000 trials finished. Best score: 0.30. This took so far: 42.1 minutes.\n",
      "2750/5000 trials finished. Best score: 0.30. This took so far: 42.7 minutes.\n",
      "2800/5000 trials finished. Best score: 0.30. This took so far: 43.3 minutes.\n",
      "2850/5000 trials finished. Best score: 0.30. This took so far: 43.9 minutes.\n",
      "2900/5000 trials finished. Best score: 0.30. This took so far: 44.5 minutes.\n",
      "2950/5000 trials finished. Best score: 0.30. This took so far: 45.2 minutes.\n",
      "3000/5000 trials finished. Best score: 0.30. This took so far: 45.9 minutes.\n",
      "3050/5000 trials finished. Best score: 0.30. This took so far: 46.6 minutes.\n",
      "3100/5000 trials finished. Best score: 0.30. This took so far: 47.2 minutes.\n",
      "3150/5000 trials finished. Best score: 0.30. This took so far: 47.8 minutes.\n",
      "3200/5000 trials finished. Best score: 0.30. This took so far: 48.5 minutes.\n",
      "3250/5000 trials finished. Best score: 0.30. This took so far: 49.0 minutes.\n",
      "3300/5000 trials finished. Best score: 0.30. This took so far: 49.5 minutes.\n",
      "3350/5000 trials finished. Best score: 0.30. This took so far: 50.1 minutes.\n",
      "3400/5000 trials finished. Best score: 0.30. This took so far: 50.8 minutes.\n",
      "3450/5000 trials finished. Best score: 0.30. This took so far: 51.4 minutes.\n",
      "3500/5000 trials finished. Best score: 0.30. This took so far: 52.1 minutes.\n",
      "3550/5000 trials finished. Best score: 0.21. This took so far: 52.8 minutes.\n",
      "3600/5000 trials finished. Best score: 0.21. This took so far: 53.5 minutes.\n",
      "3650/5000 trials finished. Best score: 0.21. This took so far: 54.1 minutes.\n",
      "3700/5000 trials finished. Best score: 0.21. This took so far: 54.8 minutes.\n",
      "3750/5000 trials finished. Best score: 0.21. This took so far: 55.4 minutes.\n",
      "3800/5000 trials finished. Best score: 0.21. This took so far: 56.0 minutes.\n",
      "3850/5000 trials finished. Best score: 0.21. This took so far: 56.6 minutes.\n",
      "3900/5000 trials finished. Best score: 0.21. This took so far: 57.2 minutes.\n",
      "3950/5000 trials finished. Best score: 0.21. This took so far: 57.8 minutes.\n",
      "4000/5000 trials finished. Best score: 0.21. This took so far: 58.5 minutes.\n",
      "4050/5000 trials finished. Best score: 0.21. This took so far: 59.1 minutes.\n",
      "4100/5000 trials finished. Best score: 0.21. This took so far: 59.8 minutes.\n",
      "4150/5000 trials finished. Best score: 0.21. This took so far: 60.4 minutes.\n",
      "4200/5000 trials finished. Best score: 0.21. This took so far: 61.1 minutes.\n",
      "4250/5000 trials finished. Best score: 0.21. This took so far: 61.7 minutes.\n",
      "4300/5000 trials finished. Best score: 0.21. This took so far: 62.3 minutes.\n",
      "4350/5000 trials finished. Best score: 0.21. This took so far: 63.1 minutes.\n",
      "4400/5000 trials finished. Best score: 0.21. This took so far: 63.7 minutes.\n",
      "4450/5000 trials finished. Best score: 0.21. This took so far: 64.3 minutes.\n",
      "4500/5000 trials finished. Best score: 0.21. This took so far: 65.0 minutes.\n",
      "4550/5000 trials finished. Best score: 0.21. This took so far: 65.6 minutes.\n",
      "4600/5000 trials finished. Best score: 0.21. This took so far: 66.2 minutes.\n",
      "4650/5000 trials finished. Best score: 0.21. This took so far: 66.7 minutes.\n",
      "4700/5000 trials finished. Best score: 0.21. This took so far: 67.3 minutes.\n",
      "4750/5000 trials finished. Best score: 0.21. This took so far: 68.0 minutes.\n",
      "4800/5000 trials finished. Best score: 0.21. This took so far: 68.6 minutes.\n",
      "4850/5000 trials finished. Best score: 0.21. This took so far: 69.3 minutes.\n",
      "4900/5000 trials finished. Best score: 0.21. This took so far: 69.9 minutes.\n",
      "4950/5000 trials finished. Best score: 0.21. This took so far: 70.6 minutes.\n",
      "Trials finished. Now analysing results. Get back to you shortly. This took: 71.2 minutes.\n"
     ]
    }
   ],
   "source": [
    "seed         = 8\n",
    "clusters     = [i for i in range(3,8)]\n",
    "algorithm    = KMeans()\n",
    "extra_params = {'random_state':seed}\n",
    "num_clusters, features, high_score = good_clustering(X.sample(5000, random_state=seed), algorithm, clusters = clusters, n_trials=5000,\n",
    "                                                             seed=seed, extra=extra_params)\n",
    "kmeans_results = {'num_clusters':num_clusters, 'features':features, 'high_score':high_score}"
   ]
  },
  {
   "cell_type": "code",
   "execution_count": 25,
   "metadata": {},
   "outputs": [
    {
     "name": "stdout",
     "output_type": "stream",
     "text": [
      "1.6453270078779338\n",
      "(array([0, 1, 2, 3], dtype=int32), array([27658, 52814, 52529, 27650]))\n"
     ]
    }
   ],
   "source": [
    "print(kmeans_results['high_score'])\n",
    "X_testing = pd.DataFrame(MinMaxScaler().fit_transform(test[kmeans_results['features']]))\n",
    "test_labels = KMeans(n_clusters=kmeans_results['num_clusters'], random_state=seed).fit_predict(X_testing)\n",
    "print(np.unique(test_labels, return_counts=True))"
   ]
  },
  {
   "cell_type": "code",
   "execution_count": 26,
   "metadata": {},
   "outputs": [],
   "source": [
    "pd.Series(test_labels).to_csv('Clustering_LaurentLindpointner_KMeans.txt', header=False)\n",
    "pd.Series(kmeans_results['features']).to_csv('Clustering_LaurentLindpointner_KMeans_VariableList.txt', index=False, header=False)\n"
   ]
  },
  {
   "cell_type": "markdown",
   "metadata": {},
   "source": [
    "## Running BIRCH Clustering"
   ]
  },
  {
   "cell_type": "code",
   "execution_count": 11,
   "metadata": {},
   "outputs": [
    {
     "name": "stdout",
     "output_type": "stream",
     "text": [
      "50/5000 trials finished. Best score: 0.62. This took so far: 1.0 minutes.\n",
      "100/5000 trials finished. Best score: 0.53. This took so far: 1.9 minutes.\n"
     ]
    },
    {
     "name": "stderr",
     "output_type": "stream",
     "text": [
      "/opt/conda/envs/python3/lib/python3.7/site-packages/sklearn/cluster/_birch.py:638: ConvergenceWarning: Number of subclusters found (6) by Birch is less than (7). Decrease the threshold.\n",
      "  % (len(centroids), self.n_clusters), ConvergenceWarning)\n"
     ]
    },
    {
     "name": "stdout",
     "output_type": "stream",
     "text": [
      "150/5000 trials finished. Best score: 0.44. This took so far: 2.8 minutes.\n",
      "200/5000 trials finished. Best score: 0.44. This took so far: 3.8 minutes.\n",
      "250/5000 trials finished. Best score: 0.44. This took so far: 4.7 minutes.\n",
      "300/5000 trials finished. Best score: 0.44. This took so far: 5.6 minutes.\n",
      "350/5000 trials finished. Best score: 0.44. This took so far: 6.5 minutes.\n",
      "400/5000 trials finished. Best score: 0.44. This took so far: 7.5 minutes.\n",
      "450/5000 trials finished. Best score: 0.44. This took so far: 8.4 minutes.\n"
     ]
    },
    {
     "name": "stderr",
     "output_type": "stream",
     "text": [
      "/opt/conda/envs/python3/lib/python3.7/site-packages/sklearn/cluster/_birch.py:638: ConvergenceWarning: Number of subclusters found (6) by Birch is less than (7). Decrease the threshold.\n",
      "  % (len(centroids), self.n_clusters), ConvergenceWarning)\n"
     ]
    },
    {
     "name": "stdout",
     "output_type": "stream",
     "text": [
      "500/5000 trials finished. Best score: 0.44. This took so far: 9.3 minutes.\n",
      "550/5000 trials finished. Best score: 0.44. This took so far: 10.3 minutes.\n",
      "600/5000 trials finished. Best score: 0.44. This took so far: 11.3 minutes.\n",
      "650/5000 trials finished. Best score: 0.43. This took so far: 12.2 minutes.\n",
      "700/5000 trials finished. Best score: 0.43. This took so far: 13.0 minutes.\n",
      "750/5000 trials finished. Best score: 0.38. This took so far: 14.0 minutes.\n"
     ]
    },
    {
     "name": "stderr",
     "output_type": "stream",
     "text": [
      "/opt/conda/envs/python3/lib/python3.7/site-packages/sklearn/cluster/_birch.py:638: ConvergenceWarning: Number of subclusters found (4) by Birch is less than (5). Decrease the threshold.\n",
      "  % (len(centroids), self.n_clusters), ConvergenceWarning)\n",
      "/opt/conda/envs/python3/lib/python3.7/site-packages/sklearn/cluster/_birch.py:638: ConvergenceWarning: Number of subclusters found (4) by Birch is less than (6). Decrease the threshold.\n",
      "  % (len(centroids), self.n_clusters), ConvergenceWarning)\n",
      "/opt/conda/envs/python3/lib/python3.7/site-packages/sklearn/cluster/_birch.py:638: ConvergenceWarning: Number of subclusters found (4) by Birch is less than (7). Decrease the threshold.\n",
      "  % (len(centroids), self.n_clusters), ConvergenceWarning)\n",
      "/opt/conda/envs/python3/lib/python3.7/site-packages/sklearn/cluster/_birch.py:638: ConvergenceWarning: Number of subclusters found (4) by Birch is less than (5). Decrease the threshold.\n",
      "  % (len(centroids), self.n_clusters), ConvergenceWarning)\n",
      "/opt/conda/envs/python3/lib/python3.7/site-packages/sklearn/cluster/_birch.py:638: ConvergenceWarning: Number of subclusters found (4) by Birch is less than (6). Decrease the threshold.\n",
      "  % (len(centroids), self.n_clusters), ConvergenceWarning)\n",
      "/opt/conda/envs/python3/lib/python3.7/site-packages/sklearn/cluster/_birch.py:638: ConvergenceWarning: Number of subclusters found (4) by Birch is less than (7). Decrease the threshold.\n",
      "  % (len(centroids), self.n_clusters), ConvergenceWarning)\n"
     ]
    },
    {
     "name": "stdout",
     "output_type": "stream",
     "text": [
      "800/5000 trials finished. Best score: 0.38. This took so far: 14.9 minutes.\n"
     ]
    },
    {
     "name": "stderr",
     "output_type": "stream",
     "text": [
      "/opt/conda/envs/python3/lib/python3.7/site-packages/sklearn/cluster/_birch.py:638: ConvergenceWarning: Number of subclusters found (3) by Birch is less than (4). Decrease the threshold.\n",
      "  % (len(centroids), self.n_clusters), ConvergenceWarning)\n",
      "/opt/conda/envs/python3/lib/python3.7/site-packages/sklearn/cluster/_birch.py:638: ConvergenceWarning: Number of subclusters found (3) by Birch is less than (5). Decrease the threshold.\n",
      "  % (len(centroids), self.n_clusters), ConvergenceWarning)\n",
      "/opt/conda/envs/python3/lib/python3.7/site-packages/sklearn/cluster/_birch.py:638: ConvergenceWarning: Number of subclusters found (3) by Birch is less than (6). Decrease the threshold.\n",
      "  % (len(centroids), self.n_clusters), ConvergenceWarning)\n",
      "/opt/conda/envs/python3/lib/python3.7/site-packages/sklearn/cluster/_birch.py:638: ConvergenceWarning: Number of subclusters found (3) by Birch is less than (7). Decrease the threshold.\n",
      "  % (len(centroids), self.n_clusters), ConvergenceWarning)\n"
     ]
    },
    {
     "name": "stdout",
     "output_type": "stream",
     "text": [
      "850/5000 trials finished. Best score: 0.38. This took so far: 15.7 minutes.\n",
      "900/5000 trials finished. Best score: 0.38. This took so far: 16.7 minutes.\n",
      "950/5000 trials finished. Best score: 0.38. This took so far: 17.6 minutes.\n"
     ]
    },
    {
     "name": "stderr",
     "output_type": "stream",
     "text": [
      "/opt/conda/envs/python3/lib/python3.7/site-packages/sklearn/cluster/_birch.py:638: ConvergenceWarning: Number of subclusters found (4) by Birch is less than (5). Decrease the threshold.\n",
      "  % (len(centroids), self.n_clusters), ConvergenceWarning)\n",
      "/opt/conda/envs/python3/lib/python3.7/site-packages/sklearn/cluster/_birch.py:638: ConvergenceWarning: Number of subclusters found (4) by Birch is less than (6). Decrease the threshold.\n",
      "  % (len(centroids), self.n_clusters), ConvergenceWarning)\n",
      "/opt/conda/envs/python3/lib/python3.7/site-packages/sklearn/cluster/_birch.py:638: ConvergenceWarning: Number of subclusters found (4) by Birch is less than (7). Decrease the threshold.\n",
      "  % (len(centroids), self.n_clusters), ConvergenceWarning)\n"
     ]
    },
    {
     "name": "stdout",
     "output_type": "stream",
     "text": [
      "1000/5000 trials finished. Best score: 0.38. This took so far: 18.6 minutes.\n",
      "1050/5000 trials finished. Best score: 0.38. This took so far: 19.5 minutes.\n",
      "1100/5000 trials finished. Best score: 0.38. This took so far: 20.4 minutes.\n",
      "1150/5000 trials finished. Best score: 0.38. This took so far: 21.4 minutes.\n",
      "1200/5000 trials finished. Best score: 0.38. This took so far: 22.3 minutes.\n",
      "1250/5000 trials finished. Best score: 0.38. This took so far: 23.2 minutes.\n",
      "1300/5000 trials finished. Best score: 0.38. This took so far: 24.1 minutes.\n"
     ]
    },
    {
     "name": "stderr",
     "output_type": "stream",
     "text": [
      "/opt/conda/envs/python3/lib/python3.7/site-packages/sklearn/cluster/_birch.py:638: ConvergenceWarning: Number of subclusters found (6) by Birch is less than (7). Decrease the threshold.\n",
      "  % (len(centroids), self.n_clusters), ConvergenceWarning)\n"
     ]
    },
    {
     "name": "stdout",
     "output_type": "stream",
     "text": [
      "1350/5000 trials finished. Best score: 0.38. This took so far: 25.1 minutes.\n",
      "1400/5000 trials finished. Best score: 0.38. This took so far: 26.0 minutes.\n",
      "1450/5000 trials finished. Best score: 0.38. This took so far: 26.9 minutes.\n",
      "1500/5000 trials finished. Best score: 0.38. This took so far: 27.9 minutes.\n",
      "1550/5000 trials finished. Best score: 0.38. This took so far: 28.8 minutes.\n",
      "1600/5000 trials finished. Best score: 0.38. This took so far: 29.7 minutes.\n",
      "1650/5000 trials finished. Best score: 0.38. This took so far: 30.6 minutes.\n"
     ]
    },
    {
     "name": "stderr",
     "output_type": "stream",
     "text": [
      "/opt/conda/envs/python3/lib/python3.7/site-packages/sklearn/cluster/_birch.py:638: ConvergenceWarning: Number of subclusters found (6) by Birch is less than (7). Decrease the threshold.\n",
      "  % (len(centroids), self.n_clusters), ConvergenceWarning)\n"
     ]
    },
    {
     "name": "stdout",
     "output_type": "stream",
     "text": [
      "1700/5000 trials finished. Best score: 0.38. This took so far: 31.6 minutes.\n",
      "1750/5000 trials finished. Best score: 0.38. This took so far: 32.6 minutes.\n"
     ]
    },
    {
     "name": "stderr",
     "output_type": "stream",
     "text": [
      "/opt/conda/envs/python3/lib/python3.7/site-packages/sklearn/cluster/_birch.py:638: ConvergenceWarning: Number of subclusters found (6) by Birch is less than (7). Decrease the threshold.\n",
      "  % (len(centroids), self.n_clusters), ConvergenceWarning)\n"
     ]
    },
    {
     "name": "stdout",
     "output_type": "stream",
     "text": [
      "1800/5000 trials finished. Best score: 0.38. This took so far: 33.5 minutes.\n",
      "1850/5000 trials finished. Best score: 0.38. This took so far: 34.5 minutes.\n"
     ]
    },
    {
     "name": "stderr",
     "output_type": "stream",
     "text": [
      "/opt/conda/envs/python3/lib/python3.7/site-packages/sklearn/cluster/_birch.py:638: ConvergenceWarning: Number of subclusters found (2) by Birch is less than (3). Decrease the threshold.\n",
      "  % (len(centroids), self.n_clusters), ConvergenceWarning)\n",
      "/opt/conda/envs/python3/lib/python3.7/site-packages/sklearn/cluster/_birch.py:638: ConvergenceWarning: Number of subclusters found (2) by Birch is less than (4). Decrease the threshold.\n",
      "  % (len(centroids), self.n_clusters), ConvergenceWarning)\n",
      "/opt/conda/envs/python3/lib/python3.7/site-packages/sklearn/cluster/_birch.py:638: ConvergenceWarning: Number of subclusters found (2) by Birch is less than (5). Decrease the threshold.\n",
      "  % (len(centroids), self.n_clusters), ConvergenceWarning)\n",
      "/opt/conda/envs/python3/lib/python3.7/site-packages/sklearn/cluster/_birch.py:638: ConvergenceWarning: Number of subclusters found (2) by Birch is less than (6). Decrease the threshold.\n",
      "  % (len(centroids), self.n_clusters), ConvergenceWarning)\n",
      "/opt/conda/envs/python3/lib/python3.7/site-packages/sklearn/cluster/_birch.py:638: ConvergenceWarning: Number of subclusters found (2) by Birch is less than (7). Decrease the threshold.\n",
      "  % (len(centroids), self.n_clusters), ConvergenceWarning)\n"
     ]
    },
    {
     "name": "stdout",
     "output_type": "stream",
     "text": [
      "1900/5000 trials finished. Best score: 0.26. This took so far: 35.4 minutes.\n",
      "1950/5000 trials finished. Best score: 0.26. This took so far: 36.4 minutes.\n",
      "2000/5000 trials finished. Best score: 0.26. This took so far: 37.3 minutes.\n",
      "2050/5000 trials finished. Best score: 0.26. This took so far: 38.2 minutes.\n",
      "2100/5000 trials finished. Best score: 0.26. This took so far: 39.2 minutes.\n",
      "2150/5000 trials finished. Best score: 0.26. This took so far: 40.1 minutes.\n",
      "2200/5000 trials finished. Best score: 0.26. This took so far: 41.1 minutes.\n",
      "2250/5000 trials finished. Best score: 0.26. This took so far: 41.9 minutes.\n",
      "2300/5000 trials finished. Best score: 0.26. This took so far: 42.9 minutes.\n",
      "2350/5000 trials finished. Best score: 0.26. This took so far: 43.8 minutes.\n",
      "2400/5000 trials finished. Best score: 0.26. This took so far: 44.7 minutes.\n"
     ]
    },
    {
     "name": "stderr",
     "output_type": "stream",
     "text": [
      "/opt/conda/envs/python3/lib/python3.7/site-packages/sklearn/cluster/_birch.py:638: ConvergenceWarning: Number of subclusters found (6) by Birch is less than (7). Decrease the threshold.\n",
      "  % (len(centroids), self.n_clusters), ConvergenceWarning)\n"
     ]
    },
    {
     "name": "stdout",
     "output_type": "stream",
     "text": [
      "2450/5000 trials finished. Best score: 0.26. This took so far: 45.6 minutes.\n",
      "2500/5000 trials finished. Best score: 0.26. This took so far: 46.6 minutes.\n"
     ]
    },
    {
     "name": "stderr",
     "output_type": "stream",
     "text": [
      "/opt/conda/envs/python3/lib/python3.7/site-packages/sklearn/cluster/_birch.py:638: ConvergenceWarning: Number of subclusters found (2) by Birch is less than (3). Decrease the threshold.\n",
      "  % (len(centroids), self.n_clusters), ConvergenceWarning)\n",
      "/opt/conda/envs/python3/lib/python3.7/site-packages/sklearn/cluster/_birch.py:638: ConvergenceWarning: Number of subclusters found (2) by Birch is less than (4). Decrease the threshold.\n",
      "  % (len(centroids), self.n_clusters), ConvergenceWarning)\n",
      "/opt/conda/envs/python3/lib/python3.7/site-packages/sklearn/cluster/_birch.py:638: ConvergenceWarning: Number of subclusters found (2) by Birch is less than (5). Decrease the threshold.\n",
      "  % (len(centroids), self.n_clusters), ConvergenceWarning)\n",
      "/opt/conda/envs/python3/lib/python3.7/site-packages/sklearn/cluster/_birch.py:638: ConvergenceWarning: Number of subclusters found (2) by Birch is less than (6). Decrease the threshold.\n",
      "  % (len(centroids), self.n_clusters), ConvergenceWarning)\n",
      "/opt/conda/envs/python3/lib/python3.7/site-packages/sklearn/cluster/_birch.py:638: ConvergenceWarning: Number of subclusters found (2) by Birch is less than (7). Decrease the threshold.\n",
      "  % (len(centroids), self.n_clusters), ConvergenceWarning)\n"
     ]
    },
    {
     "name": "stdout",
     "output_type": "stream",
     "text": [
      "2550/5000 trials finished. Best score: 0.26. This took so far: 47.5 minutes.\n",
      "2600/5000 trials finished. Best score: 0.26. This took so far: 48.5 minutes.\n",
      "2650/5000 trials finished. Best score: 0.26. This took so far: 49.5 minutes.\n",
      "2700/5000 trials finished. Best score: 0.26. This took so far: 50.4 minutes.\n",
      "2750/5000 trials finished. Best score: 0.26. This took so far: 51.4 minutes.\n",
      "2800/5000 trials finished. Best score: 0.26. This took so far: 52.3 minutes.\n",
      "2850/5000 trials finished. Best score: 0.26. This took so far: 53.2 minutes.\n",
      "2900/5000 trials finished. Best score: 0.26. This took so far: 54.1 minutes.\n",
      "2950/5000 trials finished. Best score: 0.26. This took so far: 55.1 minutes.\n",
      "3000/5000 trials finished. Best score: 0.26. This took so far: 56.0 minutes.\n",
      "3050/5000 trials finished. Best score: 0.26. This took so far: 56.9 minutes.\n",
      "3100/5000 trials finished. Best score: 0.26. This took so far: 57.8 minutes.\n",
      "3150/5000 trials finished. Best score: 0.26. This took so far: 58.7 minutes.\n",
      "3200/5000 trials finished. Best score: 0.26. This took so far: 59.7 minutes.\n",
      "3250/5000 trials finished. Best score: 0.26. This took so far: 60.6 minutes.\n",
      "3300/5000 trials finished. Best score: 0.26. This took so far: 61.5 minutes.\n",
      "3350/5000 trials finished. Best score: 0.26. This took so far: 62.4 minutes.\n",
      "3400/5000 trials finished. Best score: 0.26. This took so far: 63.3 minutes.\n"
     ]
    },
    {
     "name": "stderr",
     "output_type": "stream",
     "text": [
      "/opt/conda/envs/python3/lib/python3.7/site-packages/sklearn/cluster/_birch.py:638: ConvergenceWarning: Number of subclusters found (6) by Birch is less than (7). Decrease the threshold.\n",
      "  % (len(centroids), self.n_clusters), ConvergenceWarning)\n"
     ]
    },
    {
     "name": "stdout",
     "output_type": "stream",
     "text": [
      "3450/5000 trials finished. Best score: 0.26. This took so far: 64.3 minutes.\n"
     ]
    },
    {
     "name": "stderr",
     "output_type": "stream",
     "text": [
      "/opt/conda/envs/python3/lib/python3.7/site-packages/sklearn/cluster/_birch.py:638: ConvergenceWarning: Number of subclusters found (6) by Birch is less than (7). Decrease the threshold.\n",
      "  % (len(centroids), self.n_clusters), ConvergenceWarning)\n"
     ]
    },
    {
     "name": "stdout",
     "output_type": "stream",
     "text": [
      "3500/5000 trials finished. Best score: 0.26. This took so far: 65.2 minutes.\n",
      "3550/5000 trials finished. Best score: 0.26. This took so far: 66.1 minutes.\n",
      "3600/5000 trials finished. Best score: 0.26. This took so far: 67.0 minutes.\n"
     ]
    },
    {
     "name": "stderr",
     "output_type": "stream",
     "text": [
      "/opt/conda/envs/python3/lib/python3.7/site-packages/sklearn/cluster/_birch.py:638: ConvergenceWarning: Number of subclusters found (6) by Birch is less than (7). Decrease the threshold.\n",
      "  % (len(centroids), self.n_clusters), ConvergenceWarning)\n"
     ]
    },
    {
     "name": "stdout",
     "output_type": "stream",
     "text": [
      "3650/5000 trials finished. Best score: 0.26. This took so far: 67.9 minutes.\n",
      "3700/5000 trials finished. Best score: 0.26. This took so far: 68.8 minutes.\n",
      "3750/5000 trials finished. Best score: 0.26. This took so far: 69.8 minutes.\n",
      "3800/5000 trials finished. Best score: 0.26. This took so far: 70.8 minutes.\n",
      "3850/5000 trials finished. Best score: 0.26. This took so far: 71.7 minutes.\n",
      "3900/5000 trials finished. Best score: 0.26. This took so far: 72.6 minutes.\n",
      "3950/5000 trials finished. Best score: 0.26. This took so far: 73.5 minutes.\n",
      "4000/5000 trials finished. Best score: 0.26. This took so far: 74.5 minutes.\n",
      "4050/5000 trials finished. Best score: 0.26. This took so far: 75.4 minutes.\n",
      "4100/5000 trials finished. Best score: 0.26. This took so far: 76.4 minutes.\n",
      "4150/5000 trials finished. Best score: 0.26. This took so far: 77.2 minutes.\n",
      "4200/5000 trials finished. Best score: 0.26. This took so far: 78.2 minutes.\n",
      "4250/5000 trials finished. Best score: 0.26. This took so far: 79.0 minutes.\n",
      "4300/5000 trials finished. Best score: 0.26. This took so far: 80.0 minutes.\n",
      "4350/5000 trials finished. Best score: 0.26. This took so far: 80.9 minutes.\n",
      "4400/5000 trials finished. Best score: 0.26. This took so far: 81.8 minutes.\n",
      "4450/5000 trials finished. Best score: 0.26. This took so far: 82.8 minutes.\n",
      "4500/5000 trials finished. Best score: 0.26. This took so far: 83.7 minutes.\n",
      "4550/5000 trials finished. Best score: 0.26. This took so far: 84.6 minutes.\n",
      "4600/5000 trials finished. Best score: 0.26. This took so far: 85.5 minutes.\n",
      "4650/5000 trials finished. Best score: 0.26. This took so far: 86.4 minutes.\n",
      "4700/5000 trials finished. Best score: 0.26. This took so far: 87.3 minutes.\n",
      "4750/5000 trials finished. Best score: 0.26. This took so far: 88.3 minutes.\n",
      "4800/5000 trials finished. Best score: 0.26. This took so far: 89.2 minutes.\n",
      "4850/5000 trials finished. Best score: 0.26. This took so far: 90.1 minutes.\n",
      "4900/5000 trials finished. Best score: 0.26. This took so far: 91.0 minutes.\n",
      "4950/5000 trials finished. Best score: 0.26. This took so far: 91.9 minutes.\n"
     ]
    },
    {
     "name": "stderr",
     "output_type": "stream",
     "text": [
      "/opt/conda/envs/python3/lib/python3.7/site-packages/sklearn/cluster/_birch.py:638: ConvergenceWarning: Number of subclusters found (4) by Birch is less than (5). Decrease the threshold.\n",
      "  % (len(centroids), self.n_clusters), ConvergenceWarning)\n",
      "/opt/conda/envs/python3/lib/python3.7/site-packages/sklearn/cluster/_birch.py:638: ConvergenceWarning: Number of subclusters found (4) by Birch is less than (6). Decrease the threshold.\n",
      "  % (len(centroids), self.n_clusters), ConvergenceWarning)\n",
      "/opt/conda/envs/python3/lib/python3.7/site-packages/sklearn/cluster/_birch.py:638: ConvergenceWarning: Number of subclusters found (4) by Birch is less than (7). Decrease the threshold.\n",
      "  % (len(centroids), self.n_clusters), ConvergenceWarning)\n"
     ]
    },
    {
     "name": "stdout",
     "output_type": "stream",
     "text": [
      "Trials finished. Now analysing results. Get back to you shortly. This took: 92.8 minutes.\n"
     ]
    },
    {
     "name": "stderr",
     "output_type": "stream",
     "text": [
      "/opt/conda/envs/python3/lib/python3.7/site-packages/sklearn/cluster/_birch.py:638: ConvergenceWarning: Number of subclusters found (2) by Birch is less than (3). Decrease the threshold.\n",
      "  % (len(centroids), self.n_clusters), ConvergenceWarning)\n",
      "/opt/conda/envs/python3/lib/python3.7/site-packages/sklearn/cluster/_birch.py:638: ConvergenceWarning: Number of subclusters found (2) by Birch is less than (3). Decrease the threshold.\n",
      "  % (len(centroids), self.n_clusters), ConvergenceWarning)\n",
      "/opt/conda/envs/python3/lib/python3.7/site-packages/sklearn/cluster/_birch.py:638: ConvergenceWarning: Number of subclusters found (2) by Birch is less than (4). Decrease the threshold.\n",
      "  % (len(centroids), self.n_clusters), ConvergenceWarning)\n",
      "/opt/conda/envs/python3/lib/python3.7/site-packages/sklearn/cluster/_birch.py:638: ConvergenceWarning: Number of subclusters found (2) by Birch is less than (4). Decrease the threshold.\n",
      "  % (len(centroids), self.n_clusters), ConvergenceWarning)\n",
      "/opt/conda/envs/python3/lib/python3.7/site-packages/sklearn/cluster/_birch.py:638: ConvergenceWarning: Number of subclusters found (2) by Birch is less than (5). Decrease the threshold.\n",
      "  % (len(centroids), self.n_clusters), ConvergenceWarning)\n",
      "/opt/conda/envs/python3/lib/python3.7/site-packages/sklearn/cluster/_birch.py:638: ConvergenceWarning: Number of subclusters found (2) by Birch is less than (5). Decrease the threshold.\n",
      "  % (len(centroids), self.n_clusters), ConvergenceWarning)\n",
      "/opt/conda/envs/python3/lib/python3.7/site-packages/sklearn/cluster/_birch.py:638: ConvergenceWarning: Number of subclusters found (2) by Birch is less than (6). Decrease the threshold.\n",
      "  % (len(centroids), self.n_clusters), ConvergenceWarning)\n",
      "/opt/conda/envs/python3/lib/python3.7/site-packages/sklearn/cluster/_birch.py:638: ConvergenceWarning: Number of subclusters found (2) by Birch is less than (6). Decrease the threshold.\n",
      "  % (len(centroids), self.n_clusters), ConvergenceWarning)\n",
      "/opt/conda/envs/python3/lib/python3.7/site-packages/sklearn/cluster/_birch.py:638: ConvergenceWarning: Number of subclusters found (2) by Birch is less than (7). Decrease the threshold.\n",
      "  % (len(centroids), self.n_clusters), ConvergenceWarning)\n",
      "/opt/conda/envs/python3/lib/python3.7/site-packages/sklearn/cluster/_birch.py:638: ConvergenceWarning: Number of subclusters found (2) by Birch is less than (7). Decrease the threshold.\n",
      "  % (len(centroids), self.n_clusters), ConvergenceWarning)\n",
      "/opt/conda/envs/python3/lib/python3.7/site-packages/sklearn/cluster/_birch.py:638: ConvergenceWarning: Number of subclusters found (6) by Birch is less than (7). Decrease the threshold.\n",
      "  % (len(centroids), self.n_clusters), ConvergenceWarning)\n",
      "/opt/conda/envs/python3/lib/python3.7/site-packages/sklearn/cluster/_birch.py:638: ConvergenceWarning: Number of subclusters found (4) by Birch is less than (7). Decrease the threshold.\n",
      "  % (len(centroids), self.n_clusters), ConvergenceWarning)\n"
     ]
    }
   ],
   "source": [
    "seed         = 18\n",
    "clusters     = [i for i in range(3,8)]\n",
    "algorithm    = Birch(threshold=0.3)\n",
    "num_clusters, features, high_score = good_clustering(X.sample(5000, random_state=seed), algorithm, clusters = clusters, n_trials=5000,\n",
    "                                                             seed=seed)\n",
    "Birch_results = {'num_clusters':num_clusters, 'features':features, 'high_score':high_score}"
   ]
  },
  {
   "cell_type": "code",
   "execution_count": 12,
   "metadata": {},
   "outputs": [
    {
     "name": "stdout",
     "output_type": "stream",
     "text": [
      "1.5307099475396522\n",
      "(array([0, 1, 2, 3]), array([43965, 44103, 36222, 36361]))\n"
     ]
    }
   ],
   "source": [
    "print(Birch_results['high_score'])\n",
    "X_testing = pd.DataFrame(MinMaxScaler().fit_transform(test[Birch_results['features']]))\n",
    "test_labels = Birch(n_clusters=int(Birch_results['num_clusters'])).fit_predict(X_testing)\n",
    "print(np.unique(test_labels, return_counts=True))"
   ]
  },
  {
   "cell_type": "code",
   "execution_count": 13,
   "metadata": {},
   "outputs": [],
   "source": [
    "pd.Series(test_labels).to_csv('Clustering_LaurentLindpointner_Birch.txt', header=False)\n",
    "pd.Series(Birch_results['features']).to_csv('Clustering_LaurentLindpointner_Birch_VariableList.txt', index=False, header=False)"
   ]
  }
 ],
 "metadata": {
  "kernelspec": {
   "display_name": "Python 3 (ipykernel)",
   "language": "python",
   "name": "python3"
  },
  "language_info": {
   "codemirror_mode": {
    "name": "ipython",
    "version": 3
   },
   "file_extension": ".py",
   "mimetype": "text/x-python",
   "name": "python",
   "nbconvert_exporter": "python",
   "pygments_lexer": "ipython3",
   "version": "3.9.7"
  }
 },
 "nbformat": 4,
 "nbformat_minor": 4
}
